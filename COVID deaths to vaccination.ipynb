{
 "cells": [
  {
   "cell_type": "markdown",
   "id": "2f4e003d-6eea-4864-96cc-3d3c2cc7ca1e",
   "metadata": {},
   "source": [
    "# This contains my visualization and summary statistics for Deaths Involving COVID-19 by Vaccination Status"
   ]
  },
  {
   "cell_type": "code",
   "execution_count": 10,
   "id": "a7ccbbec-dc92-40f7-b003-c0167f27b3c2",
   "metadata": {},
   "outputs": [
    {
     "name": "stdout",
     "output_type": "stream",
     "text": [
      "Requirement already satisfied: pandas in c:\\users\\hofleming\\documents\\coviddeaths\\ds-env\\lib\\site-packages (2.1.3)\n",
      "Requirement already satisfied: numpy<2,>=1.23.2 in c:\\users\\hofleming\\documents\\coviddeaths\\ds-env\\lib\\site-packages (from pandas) (1.26.2)\n",
      "Requirement already satisfied: python-dateutil>=2.8.2 in c:\\users\\hofleming\\documents\\coviddeaths\\ds-env\\lib\\site-packages (from pandas) (2.8.2)\n",
      "Requirement already satisfied: pytz>=2020.1 in c:\\users\\hofleming\\documents\\coviddeaths\\ds-env\\lib\\site-packages (from pandas) (2023.3.post1)\n",
      "Requirement already satisfied: tzdata>=2022.1 in c:\\users\\hofleming\\documents\\coviddeaths\\ds-env\\lib\\site-packages (from pandas) (2023.3)\n",
      "Requirement already satisfied: six>=1.5 in c:\\users\\hofleming\\documents\\coviddeaths\\ds-env\\lib\\site-packages (from python-dateutil>=2.8.2->pandas) (1.16.0)\n",
      "Note: you may need to restart the kernel to use updated packages.\n"
     ]
    },
    {
     "name": "stderr",
     "output_type": "stream",
     "text": [
      "\n",
      "[notice] A new release of pip is available: 23.2.1 -> 23.3.1\n",
      "[notice] To update, run: python.exe -m pip install --upgrade pip\n"
     ]
    }
   ],
   "source": [
    "pip install pandas"
   ]
  },
  {
   "cell_type": "code",
   "execution_count": 35,
   "id": "cb45ec96-1b37-40c9-9c20-7566fc3362b5",
   "metadata": {},
   "outputs": [
    {
     "data": {
      "text/html": [
       "<div>\n",
       "<style scoped>\n",
       "    .dataframe tbody tr th:only-of-type {\n",
       "        vertical-align: middle;\n",
       "    }\n",
       "\n",
       "    .dataframe tbody tr th {\n",
       "        vertical-align: top;\n",
       "    }\n",
       "\n",
       "    .dataframe thead th {\n",
       "        text-align: right;\n",
       "    }\n",
       "</style>\n",
       "<table border=\"1\" class=\"dataframe\">\n",
       "  <thead>\n",
       "    <tr style=\"text-align: right;\">\n",
       "      <th></th>\n",
       "      <th>_id</th>\n",
       "      <th>date</th>\n",
       "      <th>age_group</th>\n",
       "      <th>deaths_boost_vac_rate_7ma</th>\n",
       "      <th>deaths_full_vac_rate_7ma</th>\n",
       "      <th>deaths_not_full_vac_rate_7ma</th>\n",
       "    </tr>\n",
       "  </thead>\n",
       "  <tbody>\n",
       "    <tr>\n",
       "      <th>0</th>\n",
       "      <td>1</td>\n",
       "      <td>2021-03-01T00:00:00</td>\n",
       "      <td>0-4yrs</td>\n",
       "      <td>0.0</td>\n",
       "      <td>0.0</td>\n",
       "      <td>0.00</td>\n",
       "    </tr>\n",
       "    <tr>\n",
       "      <th>1</th>\n",
       "      <td>2</td>\n",
       "      <td>2021-03-01T00:00:00</td>\n",
       "      <td>5-11yrs</td>\n",
       "      <td>0.0</td>\n",
       "      <td>0.0</td>\n",
       "      <td>0.00</td>\n",
       "    </tr>\n",
       "    <tr>\n",
       "      <th>2</th>\n",
       "      <td>3</td>\n",
       "      <td>2021-03-01T00:00:00</td>\n",
       "      <td>12-17yrs</td>\n",
       "      <td>0.0</td>\n",
       "      <td>0.0</td>\n",
       "      <td>0.00</td>\n",
       "    </tr>\n",
       "    <tr>\n",
       "      <th>3</th>\n",
       "      <td>4</td>\n",
       "      <td>2021-03-01T00:00:00</td>\n",
       "      <td>18-39yrs</td>\n",
       "      <td>0.0</td>\n",
       "      <td>0.0</td>\n",
       "      <td>0.00</td>\n",
       "    </tr>\n",
       "    <tr>\n",
       "      <th>4</th>\n",
       "      <td>5</td>\n",
       "      <td>2021-03-01T00:00:00</td>\n",
       "      <td>40-59yrs</td>\n",
       "      <td>0.0</td>\n",
       "      <td>0.0</td>\n",
       "      <td>0.02</td>\n",
       "    </tr>\n",
       "  </tbody>\n",
       "</table>\n",
       "</div>"
      ],
      "text/plain": [
       "   _id                 date age_group  deaths_boost_vac_rate_7ma  \\\n",
       "0    1  2021-03-01T00:00:00    0-4yrs                        0.0   \n",
       "1    2  2021-03-01T00:00:00   5-11yrs                        0.0   \n",
       "2    3  2021-03-01T00:00:00  12-17yrs                        0.0   \n",
       "3    4  2021-03-01T00:00:00  18-39yrs                        0.0   \n",
       "4    5  2021-03-01T00:00:00  40-59yrs                        0.0   \n",
       "\n",
       "   deaths_full_vac_rate_7ma  deaths_not_full_vac_rate_7ma  \n",
       "0                       0.0                          0.00  \n",
       "1                       0.0                          0.00  \n",
       "2                       0.0                          0.00  \n",
       "3                       0.0                          0.00  \n",
       "4                       0.0                          0.02  "
      ]
     },
     "execution_count": 35,
     "metadata": {},
     "output_type": "execute_result"
    }
   ],
   "source": [
    "import pandas as pd\n",
    "data = pd.read_csv(\"2aa6e2ce-40de-4910-a737-81762e014b0b.csv\")\n",
    "all_cases = pd.read_csv(\"2aa6e2ce-40de-4910-a737-81762e014b0b.csv\")\n",
    "data.head()"
   ]
  },
  {
   "cell_type": "code",
   "execution_count": 36,
   "id": "03f93aac-1a89-4bb2-9aef-afe4cb2190e6",
   "metadata": {},
   "outputs": [
    {
     "data": {
      "text/html": [
       "<div>\n",
       "<style scoped>\n",
       "    .dataframe tbody tr th:only-of-type {\n",
       "        vertical-align: middle;\n",
       "    }\n",
       "\n",
       "    .dataframe tbody tr th {\n",
       "        vertical-align: top;\n",
       "    }\n",
       "\n",
       "    .dataframe thead th {\n",
       "        text-align: right;\n",
       "    }\n",
       "</style>\n",
       "<table border=\"1\" class=\"dataframe\">\n",
       "  <thead>\n",
       "    <tr style=\"text-align: right;\">\n",
       "      <th></th>\n",
       "      <th>_id</th>\n",
       "      <th>deaths_boost_vac_rate_7ma</th>\n",
       "      <th>deaths_full_vac_rate_7ma</th>\n",
       "      <th>deaths_not_full_vac_rate_7ma</th>\n",
       "    </tr>\n",
       "  </thead>\n",
       "  <tbody>\n",
       "    <tr>\n",
       "      <th>count</th>\n",
       "      <td>6979.000000</td>\n",
       "      <td>6979.000000</td>\n",
       "      <td>6979.000000</td>\n",
       "      <td>6979.000000</td>\n",
       "    </tr>\n",
       "    <tr>\n",
       "      <th>mean</th>\n",
       "      <td>3490.000000</td>\n",
       "      <td>0.027371</td>\n",
       "      <td>0.028963</td>\n",
       "      <td>0.310238</td>\n",
       "    </tr>\n",
       "    <tr>\n",
       "      <th>std</th>\n",
       "      <td>2014.808097</td>\n",
       "      <td>0.074539</td>\n",
       "      <td>0.122333</td>\n",
       "      <td>1.354945</td>\n",
       "    </tr>\n",
       "    <tr>\n",
       "      <th>min</th>\n",
       "      <td>1.000000</td>\n",
       "      <td>0.000000</td>\n",
       "      <td>0.000000</td>\n",
       "      <td>0.000000</td>\n",
       "    </tr>\n",
       "    <tr>\n",
       "      <th>25%</th>\n",
       "      <td>1745.500000</td>\n",
       "      <td>0.000000</td>\n",
       "      <td>0.000000</td>\n",
       "      <td>0.000000</td>\n",
       "    </tr>\n",
       "    <tr>\n",
       "      <th>50%</th>\n",
       "      <td>3490.000000</td>\n",
       "      <td>0.000000</td>\n",
       "      <td>0.000000</td>\n",
       "      <td>0.000000</td>\n",
       "    </tr>\n",
       "    <tr>\n",
       "      <th>75%</th>\n",
       "      <td>5234.500000</td>\n",
       "      <td>0.010000</td>\n",
       "      <td>0.010000</td>\n",
       "      <td>0.050000</td>\n",
       "    </tr>\n",
       "    <tr>\n",
       "      <th>max</th>\n",
       "      <td>6979.000000</td>\n",
       "      <td>0.810000</td>\n",
       "      <td>1.970000</td>\n",
       "      <td>18.330000</td>\n",
       "    </tr>\n",
       "  </tbody>\n",
       "</table>\n",
       "</div>"
      ],
      "text/plain": [
       "               _id  deaths_boost_vac_rate_7ma  deaths_full_vac_rate_7ma  \\\n",
       "count  6979.000000                6979.000000               6979.000000   \n",
       "mean   3490.000000                   0.027371                  0.028963   \n",
       "std    2014.808097                   0.074539                  0.122333   \n",
       "min       1.000000                   0.000000                  0.000000   \n",
       "25%    1745.500000                   0.000000                  0.000000   \n",
       "50%    3490.000000                   0.000000                  0.000000   \n",
       "75%    5234.500000                   0.010000                  0.010000   \n",
       "max    6979.000000                   0.810000                  1.970000   \n",
       "\n",
       "       deaths_not_full_vac_rate_7ma  \n",
       "count                   6979.000000  \n",
       "mean                       0.310238  \n",
       "std                        1.354945  \n",
       "min                        0.000000  \n",
       "25%                        0.000000  \n",
       "50%                        0.000000  \n",
       "75%                        0.050000  \n",
       "max                       18.330000  "
      ]
     },
     "execution_count": 36,
     "metadata": {},
     "output_type": "execute_result"
    }
   ],
   "source": [
    "all_cases.describe()"
   ]
  },
  {
   "cell_type": "code",
   "execution_count": 37,
   "id": "a51e39f0-e835-490f-b521-03c657a563c6",
   "metadata": {},
   "outputs": [
    {
     "data": {
      "text/html": [
       "<div>\n",
       "<style scoped>\n",
       "    .dataframe tbody tr th:only-of-type {\n",
       "        vertical-align: middle;\n",
       "    }\n",
       "\n",
       "    .dataframe tbody tr th {\n",
       "        vertical-align: top;\n",
       "    }\n",
       "\n",
       "    .dataframe thead th {\n",
       "        text-align: right;\n",
       "    }\n",
       "</style>\n",
       "<table border=\"1\" class=\"dataframe\">\n",
       "  <thead>\n",
       "    <tr style=\"text-align: right;\">\n",
       "      <th></th>\n",
       "      <th>age_group</th>\n",
       "      <th>deaths_not_full_vac_rate_7ma</th>\n",
       "    </tr>\n",
       "  </thead>\n",
       "  <tbody>\n",
       "    <tr>\n",
       "      <th>0</th>\n",
       "      <td>0-4yrs</td>\n",
       "      <td>0.00</td>\n",
       "    </tr>\n",
       "    <tr>\n",
       "      <th>1</th>\n",
       "      <td>5-11yrs</td>\n",
       "      <td>0.00</td>\n",
       "    </tr>\n",
       "    <tr>\n",
       "      <th>2</th>\n",
       "      <td>12-17yrs</td>\n",
       "      <td>0.00</td>\n",
       "    </tr>\n",
       "    <tr>\n",
       "      <th>3</th>\n",
       "      <td>18-39yrs</td>\n",
       "      <td>0.00</td>\n",
       "    </tr>\n",
       "    <tr>\n",
       "      <th>4</th>\n",
       "      <td>40-59yrs</td>\n",
       "      <td>0.02</td>\n",
       "    </tr>\n",
       "  </tbody>\n",
       "</table>\n",
       "</div>"
      ],
      "text/plain": [
       "  age_group  deaths_not_full_vac_rate_7ma\n",
       "0    0-4yrs                          0.00\n",
       "1   5-11yrs                          0.00\n",
       "2  12-17yrs                          0.00\n",
       "3  18-39yrs                          0.00\n",
       "4  40-59yrs                          0.02"
      ]
     },
     "execution_count": 37,
     "metadata": {},
     "output_type": "execute_result"
    }
   ],
   "source": [
    "all_cases = all_cases.drop(columns=['_id', 'date', 'deaths_full_vac_rate_7ma', 'deaths_boost_vac_rate_7ma'])\n",
    "all_cases.head()"
   ]
  },
  {
   "cell_type": "code",
   "execution_count": 50,
   "id": "18946623-0e8c-4088-91d4-7dd68bf26468",
   "metadata": {},
   "outputs": [
    {
     "data": {
      "text/html": [
       "<div>\n",
       "<style scoped>\n",
       "    .dataframe tbody tr th:only-of-type {\n",
       "        vertical-align: middle;\n",
       "    }\n",
       "\n",
       "    .dataframe tbody tr th {\n",
       "        vertical-align: top;\n",
       "    }\n",
       "\n",
       "    .dataframe thead th {\n",
       "        text-align: right;\n",
       "    }\n",
       "</style>\n",
       "<table border=\"1\" class=\"dataframe\">\n",
       "  <thead>\n",
       "    <tr style=\"text-align: right;\">\n",
       "      <th></th>\n",
       "      <th>age_group</th>\n",
       "      <th>deaths_not_full_vac_rate_7ma</th>\n",
       "    </tr>\n",
       "  </thead>\n",
       "  <tbody>\n",
       "    <tr>\n",
       "      <th>4</th>\n",
       "      <td>40-59yrs</td>\n",
       "      <td>0.02</td>\n",
       "    </tr>\n",
       "    <tr>\n",
       "      <th>5</th>\n",
       "      <td>60+</td>\n",
       "      <td>0.35</td>\n",
       "    </tr>\n",
       "    <tr>\n",
       "      <th>6</th>\n",
       "      <td>ALL</td>\n",
       "      <td>0.09</td>\n",
       "    </tr>\n",
       "    <tr>\n",
       "      <th>11</th>\n",
       "      <td>40-59yrs</td>\n",
       "      <td>0.04</td>\n",
       "    </tr>\n",
       "    <tr>\n",
       "      <th>12</th>\n",
       "      <td>60+</td>\n",
       "      <td>0.34</td>\n",
       "    </tr>\n",
       "  </tbody>\n",
       "</table>\n",
       "</div>"
      ],
      "text/plain": [
       "   age_group  deaths_not_full_vac_rate_7ma\n",
       "4   40-59yrs                          0.02\n",
       "5        60+                          0.35\n",
       "6        ALL                          0.09\n",
       "11  40-59yrs                          0.04\n",
       "12       60+                          0.34"
      ]
     },
     "execution_count": 50,
     "metadata": {},
     "output_type": "execute_result"
    }
   ],
   "source": [
    "all_cases = all_cases.loc[all_cases['deaths_not_full_vac_rate_7ma'] > 0.00]\n",
    "all_cases.head()"
   ]
  },
  {
   "cell_type": "code",
   "execution_count": 52,
   "id": "aafc37c0-01d6-4147-b447-c947e57f9098",
   "metadata": {},
   "outputs": [
    {
     "data": {
      "text/plain": [
       "age_group\n",
       "ALL         933\n",
       "60+         931\n",
       "40-59yrs    591\n",
       "18-39yrs    273\n",
       "0-4yrs       63\n",
       "5-11yrs      21\n",
       "12-17yrs     21\n",
       "Name: count, dtype: int64"
      ]
     },
     "execution_count": 52,
     "metadata": {},
     "output_type": "execute_result"
    }
   ],
   "source": [
    "all_cases['age_group'].value_counts()"
   ]
  },
  {
   "cell_type": "code",
   "execution_count": 55,
   "id": "bbea620e-825b-4ca3-83d2-5d31212fcce8",
   "metadata": {},
   "outputs": [
    {
     "data": {
      "text/plain": [
       "<Axes: xlabel='age_group'>"
      ]
     },
     "execution_count": 55,
     "metadata": {},
     "output_type": "execute_result"
    },
    {
     "data": {
      "image/png": "[encoded data removed]",
      "text/plain": [
       "<Figure size 640x480 with 1 Axes>"
      ]
     },
     "metadata": {},
     "output_type": "display_data"
    }
   ],
   "source": [
    "all_cases['age_group'].value_counts(normalize=True).plot(kind='bar')"
   ]
  },
  {
   "cell_type": "code",
   "execution_count": 67,
   "id": "0749d22e-d22b-4210-9863-a51c22f87c0d",
   "metadata": {},
   "outputs": [
    {
     "data": {
      "text/html": [
       "<div>\n",
       "<style scoped>\n",
       "    .dataframe tbody tr th:only-of-type {\n",
       "        vertical-align: middle;\n",
       "    }\n",
       "\n",
       "    .dataframe tbody tr th {\n",
       "        vertical-align: top;\n",
       "    }\n",
       "\n",
       "    .dataframe thead th {\n",
       "        text-align: right;\n",
       "    }\n",
       "</style>\n",
       "<table border=\"1\" class=\"dataframe\">\n",
       "  <thead>\n",
       "    <tr style=\"text-align: right;\">\n",
       "      <th></th>\n",
       "      <th>age_group</th>\n",
       "      <th>deaths_boost_vac_rate_7ma</th>\n",
       "    </tr>\n",
       "  </thead>\n",
       "  <tbody>\n",
       "    <tr>\n",
       "      <th>1594</th>\n",
       "      <td>60+</td>\n",
       "      <td>0.19</td>\n",
       "    </tr>\n",
       "    <tr>\n",
       "      <th>1595</th>\n",
       "      <td>ALL</td>\n",
       "      <td>0.15</td>\n",
       "    </tr>\n",
       "    <tr>\n",
       "      <th>1601</th>\n",
       "      <td>60+</td>\n",
       "      <td>0.19</td>\n",
       "    </tr>\n",
       "    <tr>\n",
       "      <th>1602</th>\n",
       "      <td>ALL</td>\n",
       "      <td>0.15</td>\n",
       "    </tr>\n",
       "    <tr>\n",
       "      <th>1608</th>\n",
       "      <td>60+</td>\n",
       "      <td>0.19</td>\n",
       "    </tr>\n",
       "  </tbody>\n",
       "</table>\n",
       "</div>"
      ],
      "text/plain": [
       "     age_group  deaths_boost_vac_rate_7ma\n",
       "1594       60+                       0.19\n",
       "1595       ALL                       0.15\n",
       "1601       60+                       0.19\n",
       "1602       ALL                       0.15\n",
       "1608       60+                       0.19"
      ]
     },
     "execution_count": 67,
     "metadata": {},
     "output_type": "execute_result"
    }
   ],
   "source": [
    "all_cases = pd.read_csv(\"2aa6e2ce-40de-4910-a737-81762e014b0b.csv\")\n",
    "boost_cases = all_cases.loc[all_cases.deaths_boost_vac_rate_7ma > 0]\n",
    "boost_cases = boost_cases.drop(columns=['_id', 'date', 'deaths_full_vac_rate_7ma', 'deaths_not_full_vac_rate_7ma'])\n",
    "boost_cases.head()"
   ]
  },
  {
   "cell_type": "markdown",
   "id": "abf752c6-cde9-4e69-a313-88d8bcbfc2dc",
   "metadata": {},
   "source": [
    "boost_cases['age_group'].value_counts()"
   ]
  },
  {
   "cell_type": "markdown",
   "id": "d4c5bf41-e7e2-434b-8809-664153225b91",
   "metadata": {},
   "source": [
    "#### I used the dataset to compare deaths by age group between not fully vaccinated and those who have recieved a booster.\n",
    "#### As evidenced by the data the amount deaths decreases by age group (expect 0-4 years old was slightly higher than 5-11 and 12-17yrs), however deaths for those who have the booster are a lot less than those who are not fully vaccinated"
   ]
  }
 ],
 "metadata": {
  "kernelspec": {
   "display_name": "Python 3 (ipykernel)",
   "language": "python",
   "name": "python3"
  },
  "language_info": {
   "codemirror_mode": {
    "name": "ipython",
    "version": 3
   },
   "file_extension": ".py",
   "mimetype": "text/x-python",
   "name": "python",
   "nbconvert_exporter": "python",
   "pygments_lexer": "ipython3",
   "version": "3.11.5"
  }
 },
 "nbformat": 4,
 "nbformat_minor": 5
}
